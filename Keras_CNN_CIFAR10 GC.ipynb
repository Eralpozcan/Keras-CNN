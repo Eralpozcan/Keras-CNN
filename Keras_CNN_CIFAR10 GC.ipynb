{
  "nbformat": 4,
  "nbformat_minor": 0,
  "metadata": {
    "colab": {
      "name": "Keras CNN CIFAR10.ipynb",
      "version": "0.3.2",
      "views": {},
      "default_view": {},
      "provenance": [],
      "collapsed_sections": []
    },
    "kernelspec": {
      "name": "python2",
      "display_name": "Python 2"
    },
    "accelerator": "GPU"
  },
  "cells": [
    {
      "metadata": {
        "id": "YUMEWfW-rWpF",
        "colab_type": "code",
        "colab": {
          "autoexec": {
            "startup": false,
            "wait_interval": 0
          }
        }
      },
      "cell_type": "code",
      "source": [
        "!apt-get install -y -qq software-properties-common python-software-properties module-init-tools\n",
        "!add-apt-repository -y ppa:alessandro-strada/ppa 2>&1 > /dev/null\n",
        "!apt-get update -qq 2>&1 > /dev/null\n",
        "!apt-get -y install -qq google-drive-ocamlfuse fuse\n",
        "from google.colab import auth\n",
        "auth.authenticate_user()\n",
        "from oauth2client.client import GoogleCredentials\n",
        "creds = GoogleCredentials.get_application_default()\n",
        "import getpass\n",
        "!google-drive-ocamlfuse -headless -id={creds.client_id} -secret={creds.client_secret} < /dev/null 2>&1 | grep URL\n",
        "vcode = getpass.getpass()\n",
        "!echo {vcode} | google-drive-ocamlfuse -headless -id={creds.client_id} -secret={creds.client_secret}"
      ],
      "execution_count": 0,
      "outputs": []
    },
    {
      "metadata": {
        "id": "EJvrbg_IrghV",
        "colab_type": "code",
        "colab": {
          "autoexec": {
            "startup": false,
            "wait_interval": 0
          }
        }
      },
      "cell_type": "code",
      "source": [
        "!apt-get install -y python-numpy python-dev cmake zlib1g-dev libjpeg-dev xvfb libav-tools xorg-dev python-opengl libboost-all-dev libsdl2-dev swig"
      ],
      "execution_count": 0,
      "outputs": []
    },
    {
      "metadata": {
        "id": "fiF5UoKWrkbr",
        "colab_type": "code",
        "colab": {
          "autoexec": {
            "startup": false,
            "wait_interval": 0
          }
        }
      },
      "cell_type": "code",
      "source": [
        "!pip install gym\n",
        "!pip install keras"
      ],
      "execution_count": 0,
      "outputs": []
    },
    {
      "metadata": {
        "id": "Hl2oB0JUMNgc",
        "colab_type": "text"
      },
      "cell_type": "markdown",
      "source": [
        "#### Kütüphanelerin İmport Edilmesi"
      ]
    },
    {
      "metadata": {
        "id": "Z1XCocUirpaP",
        "colab_type": "code",
        "colab": {
          "autoexec": {
            "startup": false,
            "wait_interval": 0
          }
        }
      },
      "cell_type": "code",
      "source": [
        "import keras\n",
        "from keras.datasets import cifar10\n",
        "from keras.models import Sequential\n",
        "from keras.layers import Conv2D,MaxPool2D, Dense\n",
        "from keras.layers import Dropout, Activation , Flatten\n",
        "from google.colab import files\n",
        "import numpy as np\n",
        "import matplotlib.pyplot as plt\n",
        "import random\n",
        "\n",
        "%matplotlib inline"
      ],
      "execution_count": 0,
      "outputs": []
    },
    {
      "metadata": {
        "id": "MMvVCDjOMaMU",
        "colab_type": "text"
      },
      "cell_type": "markdown",
      "source": [
        "#### Kod Başlangıcı"
      ]
    },
    {
      "metadata": {
        "id": "-MeeFO3zsHZo",
        "colab_type": "code",
        "colab": {
          "autoexec": {
            "startup": false,
            "wait_interval": 0
          }
        }
      },
      "cell_type": "code",
      "source": [
        "\n",
        "NUM_CLASSES=10   # 10 Kategori olduğu için.\n",
        "\n",
        "(X_train, y_train), (X_test, y_test) = cifar10.load_data()# Datayı yüklüyoruz.İndiriyoruz."
      ],
      "execution_count": 0,
      "outputs": []
    },
    {
      "metadata": {
        "id": "dtaOY-3GuGFC",
        "colab_type": "code",
        "colab": {
          "autoexec": {
            "startup": false,
            "wait_interval": 0
          }
        }
      },
      "cell_type": "code",
      "source": [
        "TYPE_MAP = {\n",
        "    0: u'Uçak',\n",
        "    1: 'Otomobil',\n",
        "    2: u'Kuş',\n",
        "    3: 'Kedi',\n",
        "    4: 'Geyik',\n",
        "    5: u'Köpek',\n",
        "    6: u'Kurbağa',\n",
        "    7: 'At',\n",
        "    8: 'Gemi',\n",
        "    9: 'Kamyon'\n",
        "} # Verilerin içerisinde ki isimlendirmeler. https://www.kaggle.com/c/cifar-10/data"
      ],
      "execution_count": 0,
      "outputs": []
    },
    {
      "metadata": {
        "id": "O8Qxw32ykpj0",
        "colab_type": "code",
        "colab": {
          "autoexec": {
            "startup": false,
            "wait_interval": 0
          }
        }
      },
      "cell_type": "code",
      "source": [
        "X_train = X_train.astype('float32') / 225.0   # Veri tiplerini sıfır ile bir arasına çekmemize yarıyor.\n",
        "X_test = X_test.astype('float32') / 225.0\n",
        "\n",
        "y_train = keras.utils.to_categorical(y_train,NUM_CLASSES)\n",
        "y_test = keras.utils.to_categorical(y_test,NUM_CLASSES)"
      ],
      "execution_count": 0,
      "outputs": []
    },
    {
      "metadata": {
        "id": "kNb1y0RIuIMO",
        "colab_type": "code",
        "colab": {
          "autoexec": {
            "startup": false,
            "wait_interval": 0
          }
        }
      },
      "cell_type": "code",
      "source": [
        "dataset_size = X_train.shape[0]\n",
        "\n",
        "idx = random.randint(0, dataset_size)\n",
        "\n",
        "sample_img = X_train[idx]\n",
        "sample_label= np.argmax(y_train[idx])\n",
        "\n",
        "print(u\"Resmin Cinsi : %s\" % TYPE_MAP[sample_label]) # Rasgele çektiğimiz resmin ne olduğu ile birlikte aşağıda göstertiyoruz. Daha eğitim yapmadık.Sadece dataya bakiyoruz.\n",
        "plt.imshow(sample_img)"
      ],
      "execution_count": 0,
      "outputs": []
    },
    {
      "metadata": {
        "id": "E3V2SqckV-pZ",
        "colab_type": "text"
      },
      "cell_type": "markdown",
      "source": [
        "# New Section"
      ]
    },
    {
      "metadata": {
        "id": "2I7ao_Dxytti",
        "colab_type": "code",
        "colab": {
          "autoexec": {
            "startup": false,
            "wait_interval": 0
          }
        }
      },
      "cell_type": "code",
      "source": [
        "input_shape = X_train.shape[1:]\n",
        "\n",
        "model = Sequential()\n",
        "\n",
        "model.add(Conv2D(32,(5,5),padding ='same',input_shape=input_shape)) # 5x5x32'lik bir Conv uyguluyoruz.\n",
        "model.add(Activation('relu')) # Activasyon fonksiyonu relu. \n",
        "\n",
        "model.add(Conv2D(32, (3, 3)))# 3x3x32'lik bir Conv yapıyoruz.\n",
        "model.add(MaxPool2D(pool_size=(2,2))) # 2x2 'lik bir  max pool yaparak veriyi daha aza indirgiyoruz.\n",
        "model.add(Activation('relu'))\n",
        "model.add(Dropout(0.25)) #\n",
        "\n",
        "model.add(Conv2D(64,(3,3),padding='same')) # 3x3x64'lük bir Conv işlemi. padding var.\n",
        "model.add(Activation('relu')) # Activatiyonu relu\n",
        "\n",
        "model.add(Conv2D(64,(3,3))) # 3x3x64'lük bir conv işlemi paddingsiz\n",
        "model.add(MaxPool2D(pool_size=(2,2)))# 2x2'lik maxpool\n",
        "model.add(Dropout(0.5)) # Dropout rasgele olarak verileri sıfıra çekiyor.\n",
        "\n",
        "model.add(Flatten()) # Bu katman tek dikey bir dizi şeklini aldırıyor çikişlarımızın\n",
        "model.add(Dense(1024,activation='relu')) # Hidden Layer\n",
        "model.add(Dropout(0.25))\n",
        "\n",
        "\n",
        "model.add(Dense(NUM_CLASSES,activation='softmax'))  # Softmax ile çikişi gösteriyoruz.\n",
        "\n",
        "model.compile(loss=keras.losses.categorical_crossentropy,optimizer=keras.optimizers.Adadelta(),metrics=['accuracy']) # Optimizer ile hatayi daha aza indirgeme işlemi yapıyoruz. Adadelta kullandığımız algortima Adam vb de kullanılabilir."
      ],
      "execution_count": 0,
      "outputs": []
    },
    {
      "metadata": {
        "id": "kvazV4OQ8lyz",
        "colab_type": "text"
      },
      "cell_type": "markdown",
      "source": [
        ""
      ]
    },
    {
      "metadata": {
        "id": "9w8wNZUaw7MH",
        "colab_type": "code",
        "colab": {
          "autoexec": {
            "startup": false,
            "wait_interval": 0
          }
        }
      },
      "cell_type": "code",
      "source": [
        "model.fit(X_train, y_train, batch_size=512, epochs=10,verbose=1,validation_data=(X_test, y_test),shuffle=True)  # Batch_size Her iterasyonda kaç resim göndereceğimiz.Fazla resim göndermek doğrulu arttırsada ezberide arttırıyor.İdeal 128 256 gibi. Epoch iterasyon kaç kere yapılcak bu.Validation= doğruluk teste göre oranlicak"
      ],
      "execution_count": 0,
      "outputs": []
    },
    {
      "metadata": {
        "id": "LAZhfLdSwQNt",
        "colab_type": "code",
        "colab": {
          "autoexec": {
            "startup": false,
            "wait_interval": 0
          }
        }
      },
      "cell_type": "code",
      "source": [
        "model.evaluate(X_test,y_test, verbose=1) # Modelin değerlendirmesini yapıyor.Valitadon???."
      ],
      "execution_count": 0,
      "outputs": []
    },
    {
      "metadata": {
        "id": "6W4IDuQwIj8P",
        "colab_type": "code",
        "colab": {
          "autoexec": {
            "startup": false,
            "wait_interval": 0
          }
        }
      },
      "cell_type": "code",
      "source": [
        "idx = random.randint(0, X_test.shape[0])# Rasgele resim seçiyoruz\n",
        "\n",
        "sample_img= X_test[idx]\n",
        "sample_label = np.argmax(y_test[idx])\n",
        "\n",
        "print(u\"Resmin Cinsi : %s\" % TYPE_MAP[sample_label] ) # Rasgele resimin ne olduğunu veya söylediğini gösteriyoruz\n",
        "plt.imshow(sample_img)\n",
        "\n",
        "sample_img= sample_img.reshape(1, 32, 32 ,3) # 32 32 Boyutunda olduğu için ve RGB olduğundan 3 diyoruz.\n",
        "\n",
        "for i, v in enumerate(model.predict(sample_img)[0]): # Resimin kaç ihtimalle olduğunu yazdiriyoruz.\n",
        "  print(u\"Resim %s olma ihtimali : %.2f%%\" % (TYPE_MAP[i],v *100)) # İhtimallini yansıtıyoruz i değişkeni diğer kategorilere göre de ihtimalleri göstermemize yariyor."
      ],
      "execution_count": 0,
      "outputs": []
    },
    {
      "metadata": {
        "id": "th15RXxtpj4b",
        "colab_type": "code",
        "colab": {
          "autoexec": {
            "startup": false,
            "wait_interval": 0
          }
        }
      },
      "cell_type": "code",
      "source": [
        "model.save('cifar10-cnn.h5') # Eğitilmiş verileri kaydetmek için Drive'a direkt kaydediyor."
      ],
      "execution_count": 0,
      "outputs": []
    },
    {
      "metadata": {
        "id": "uNZLAHZbp8b0",
        "colab_type": "code",
        "colab": {
          "autoexec": {
            "startup": false,
            "wait_interval": 0
          }
        }
      },
      "cell_type": "code",
      "source": [
        "model.load_weights('cifar10-cnn.h5') # Eğitilmiş ağırlıkları yüklemek için."
      ],
      "execution_count": 0,
      "outputs": []
    },
    {
      "metadata": {
        "id": "RtDfn7r0rgss",
        "colab_type": "code",
        "colab": {
          "autoexec": {
            "startup": false,
            "wait_interval": 0
          }
        }
      },
      "cell_type": "code",
      "source": [
        "!ls"
      ],
      "execution_count": 0,
      "outputs": []
    },
    {
      "metadata": {
        "id": "SOa7GxNkrPeQ",
        "colab_type": "code",
        "colab": {
          "autoexec": {
            "startup": false,
            "wait_interval": 0
          }
        }
      },
      "cell_type": "code",
      "source": [
        "model.summary() # modelimizin akış seması diyebiliriz diyagramı ve parametre sayıları."
      ],
      "execution_count": 0,
      "outputs": []
    }
  ]
}