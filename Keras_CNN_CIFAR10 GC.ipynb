{
  "nbformat": 4,
  "nbformat_minor": 0,
  "metadata": {
    "colab": {
      "name": "Keras CNN CIFAR10.ipynb",
      "version": "0.3.2",
      "views": {},
      "default_view": {},
      "provenance": [],
      "collapsed_sections": []
    },
    "kernelspec": {
      "name": "python2",
      "display_name": "Python 2"
    },
    "accelerator": "GPU"
  },
  "cells": [
    {
      "metadata": {
        "id": "YUMEWfW-rWpF",
        "colab_type": "code",
        "colab": {
          "autoexec": {
            "startup": false,
            "wait_interval": 0
          }
        }
      },
      "cell_type": "code",
      "source": [
        "!apt-get install -y -qq software-properties-common python-software-properties module-init-tools\n",
        "!add-apt-repository -y ppa:alessandro-strada/ppa 2>&1 > /dev/null\n",
        "!apt-get update -qq 2>&1 > /dev/null\n",
        "!apt-get -y install -qq google-drive-ocamlfuse fuse\n",
        "from google.colab import auth\n",
        "auth.authenticate_user()\n",
        "from oauth2client.client import GoogleCredentials\n",
        "creds = GoogleCredentials.get_application_default()\n",
        "import getpass\n",
        "!google-drive-ocamlfuse -headless -id={creds.client_id} -secret={creds.client_secret} < /dev/null 2>&1 | grep URL\n",
        "vcode = getpass.getpass()\n",
        "!echo {vcode} | google-drive-ocamlfuse -headless -id={creds.client_id} -secret={creds.client_secret}"
      ],
      "execution_count": 0,
      "outputs": []
    },
    {
      "metadata": {
        "id": "EJvrbg_IrghV",
        "colab_type": "code",
        "colab": {
          "autoexec": {
            "startup": false,
            "wait_interval": 0
          }
        }
      },
      "cell_type": "code",
      "source": [
        "!apt-get install -y python-numpy python-dev cmake zlib1g-dev libjpeg-dev xvfb libav-tools xorg-dev python-opengl libboost-all-dev libsdl2-dev swig"
      ],
      "execution_count": 0,
      "outputs": []
    },
    {
      "metadata": {
        "id": "fiF5UoKWrkbr",
        "colab_type": "code",
        "colab": {
          "autoexec": {
            "startup": false,
            "wait_interval": 0
          },
          "output_extras": [
            {
              "item_id": 10
            }
          ],
          "base_uri": "https://localhost:8080/",
          "height": 510
        },
        "outputId": "250520d2-362b-4ffe-9173-6a1c3ab65998",
        "executionInfo": {
          "status": "ok",
          "timestamp": 1517872411944,
          "user_tz": -180,
          "elapsed": 6023,
          "user": {
            "displayName": "Eralp Özcan",
            "photoUrl": "//lh5.googleusercontent.com/-MCjMIIz2Q80/AAAAAAAAAAI/AAAAAAAAACQ/fYaY2ovTkhc/s50-c-k-no/photo.jpg",
            "userId": "106137682665301037063"
          }
        }
      },
      "cell_type": "code",
      "source": [
        "!pip install gym\n",
        "!pip install keras"
      ],
      "execution_count": 3,
      "outputs": [
        {
          "output_type": "stream",
          "text": [
            "Collecting gym\n",
            "  Downloading gym-0.9.6.tar.gz (106kB)\n",
            "\u001b[K    100% |████████████████████████████████| 112kB 2.4MB/s \n",
            "\u001b[?25hRequirement already satisfied: numpy>=1.10.4 in /usr/local/lib/python2.7/dist-packages (from gym)\n",
            "Collecting pyglet>=1.2.0 (from gym)\n",
            "  Downloading pyglet-1.3.1-py2.py3-none-any.whl (1.0MB)\n",
            "\u001b[K    100% |████████████████████████████████| 1.0MB 1.1MB/s \n",
            "\u001b[?25hRequirement already satisfied: requests>=2.0 in /usr/local/lib/python2.7/dist-packages (from gym)\n",
            "Requirement already satisfied: six in /usr/local/lib/python2.7/dist-packages (from gym)\n",
            "Requirement already satisfied: future in /usr/local/lib/python2.7/dist-packages (from pyglet>=1.2.0->gym)\n",
            "Requirement already satisfied: idna<2.7,>=2.5 in /usr/local/lib/python2.7/dist-packages (from requests>=2.0->gym)\n",
            "Requirement already satisfied: urllib3<1.23,>=1.21.1 in /usr/local/lib/python2.7/dist-packages (from requests>=2.0->gym)\n",
            "Requirement already satisfied: certifi>=2017.4.17 in /usr/local/lib/python2.7/dist-packages (from requests>=2.0->gym)\n",
            "Requirement already satisfied: chardet<3.1.0,>=3.0.2 in /usr/local/lib/python2.7/dist-packages (from requests>=2.0->gym)\n",
            "Building wheels for collected packages: gym\n",
            "  Running setup.py bdist_wheel for gym ... \u001b[?25l-\b \bdone\n",
            "\u001b[?25h  Stored in directory: /content/.cache/pip/wheels/93/f6/46/14486105f38feb8e724664d067d35328b2ddefbfc09d094496\n",
            "Successfully built gym\n",
            "Installing collected packages: pyglet, gym\n",
            "Successfully installed gym-0.9.6 pyglet-1.3.1\n",
            "Collecting keras\n",
            "  Downloading Keras-2.1.3-py2.py3-none-any.whl (319kB)\n",
            "\u001b[K    100% |████████████████████████████████| 327kB 2.2MB/s \n",
            "\u001b[?25hRequirement already satisfied: six>=1.9.0 in /usr/local/lib/python2.7/dist-packages (from keras)\n",
            "Requirement already satisfied: numpy>=1.9.1 in /usr/local/lib/python2.7/dist-packages (from keras)\n",
            "Requirement already satisfied: pyyaml in /usr/local/lib/python2.7/dist-packages (from keras)\n",
            "Requirement already satisfied: scipy>=0.14 in /usr/local/lib/python2.7/dist-packages (from keras)\n",
            "Installing collected packages: keras\n",
            "Successfully installed keras-2.1.3\n"
          ],
          "name": "stdout"
        }
      ]
    },
    {
      "metadata": {
        "id": "Hl2oB0JUMNgc",
        "colab_type": "text"
      },
      "cell_type": "markdown",
      "source": [
        "#### Kütüphanelerin İmport Edilmesi"
      ]
    },
    {
      "metadata": {
        "id": "Z1XCocUirpaP",
        "colab_type": "code",
        "colab": {
          "autoexec": {
            "startup": false,
            "wait_interval": 0
          },
          "output_extras": [
            {
              "item_id": 1
            }
          ],
          "base_uri": "https://localhost:8080/",
          "height": 34
        },
        "outputId": "6e3ce92f-330e-4e84-8f62-26e7656a6208",
        "executionInfo": {
          "status": "ok",
          "timestamp": 1517872421658,
          "user_tz": -180,
          "elapsed": 8066,
          "user": {
            "displayName": "Eralp Özcan",
            "photoUrl": "//lh5.googleusercontent.com/-MCjMIIz2Q80/AAAAAAAAAAI/AAAAAAAAACQ/fYaY2ovTkhc/s50-c-k-no/photo.jpg",
            "userId": "106137682665301037063"
          }
        }
      },
      "cell_type": "code",
      "source": [
        "import keras\n",
        "from keras.datasets import cifar10\n",
        "from keras.models import Sequential\n",
        "from keras.layers import Conv2D,MaxPool2D, Dense\n",
        "from keras.layers import Dropout, Activation , Flatten\n",
        "from google.colab import files\n",
        "import numpy as np\n",
        "import matplotlib.pyplot as plt\n",
        "import random\n",
        "\n",
        "%matplotlib inline"
      ],
      "execution_count": 4,
      "outputs": [
        {
          "output_type": "stream",
          "text": [
            "Using TensorFlow backend.\n"
          ],
          "name": "stderr"
        }
      ]
    },
    {
      "metadata": {
        "id": "MMvVCDjOMaMU",
        "colab_type": "text"
      },
      "cell_type": "markdown",
      "source": [
        "#### Kod Başlangıcı"
      ]
    },
    {
      "metadata": {
        "id": "-MeeFO3zsHZo",
        "colab_type": "code",
        "colab": {
          "autoexec": {
            "startup": false,
            "wait_interval": 0
          },
          "output_extras": [
            {
              "item_id": 74
            }
          ],
          "base_uri": "https://localhost:8080/",
          "height": 68
        },
        "outputId": "645c5ab8-5992-4abd-a8ca-96160d0f7ad5",
        "executionInfo": {
          "status": "ok",
          "timestamp": 1517872459354,
          "user_tz": -180,
          "elapsed": 34325,
          "user": {
            "displayName": "Eralp Özcan",
            "photoUrl": "//lh5.googleusercontent.com/-MCjMIIz2Q80/AAAAAAAAAAI/AAAAAAAAACQ/fYaY2ovTkhc/s50-c-k-no/photo.jpg",
            "userId": "106137682665301037063"
          }
        }
      },
      "cell_type": "code",
      "source": [
        "\n",
        "NUM_CLASSES=10   # 10 Kategori olduğu için.\n",
        "\n",
        "(X_train, y_train), (X_test, y_test) = cifar10.load_data()# Datayı yüklüyoruz.İndiriyoruz."
      ],
      "execution_count": 5,
      "outputs": [
        {
          "output_type": "stream",
          "text": [
            "Downloading data from https://www.cs.toronto.edu/~kriz/cifar-10-python.tar.gz\n",
            "170500096/170498071 [==============================] - 31s 0us/step\n",
            "170508288/170498071 [==============================] - 31s 0us/step\n"
          ],
          "name": "stdout"
        }
      ]
    },
    {
      "metadata": {
        "id": "dtaOY-3GuGFC",
        "colab_type": "code",
        "colab": {
          "autoexec": {
            "startup": false,
            "wait_interval": 0
          }
        }
      },
      "cell_type": "code",
      "source": [
        "TYPE_MAP = {\n",
        "    0: u'Uçak',\n",
        "    1: 'Otomobil',\n",
        "    2: u'Kuş',\n",
        "    3: 'Kedi',\n",
        "    4: 'Geyik',\n",
        "    5: u'Köpek',\n",
        "    6: u'Kurbağa',\n",
        "    7: 'At',\n",
        "    8: 'Gemi',\n",
        "    9: 'Kamyon'\n",
        "} # Verilerin içerisinde ki isimlendirmeler. https://www.kaggle.com/c/cifar-10/data"
      ],
      "execution_count": 0,
      "outputs": []
    },
    {
      "metadata": {
        "id": "O8Qxw32ykpj0",
        "colab_type": "code",
        "colab": {
          "autoexec": {
            "startup": false,
            "wait_interval": 0
          }
        }
      },
      "cell_type": "code",
      "source": [
        "X_train = X_train.astype('float32') / 225.0   # Veri tiplerini sıfır ile bir arasına çekmemize yarıyor.\n",
        "X_test = X_test.astype('float32') / 225.0\n",
        "\n",
        "y_train = keras.utils.to_categorical(y_train,NUM_CLASSES)\n",
        "y_test = keras.utils.to_categorical(y_test,NUM_CLASSES)"
      ],
      "execution_count": 0,
      "outputs": []
    },
    {
      "metadata": {
        "id": "kNb1y0RIuIMO",
        "colab_type": "code",
        "colab": {
          "autoexec": {
            "startup": false,
            "wait_interval": 0
          },
          "output_extras": [
            {
              "item_id": 1
            },
            {
              "item_id": 2
            },
            {
              "item_id": 3
            }
          ],
          "base_uri": "https://localhost:8080/",
          "height": 300
        },
        "outputId": "a88f625f-c635-4606-ea88-b04f42e6b833",
        "executionInfo": {
          "status": "ok",
          "timestamp": 1517872463442,
          "user_tz": -180,
          "elapsed": 1003,
          "user": {
            "displayName": "Eralp Özcan",
            "photoUrl": "//lh5.googleusercontent.com/-MCjMIIz2Q80/AAAAAAAAAAI/AAAAAAAAACQ/fYaY2ovTkhc/s50-c-k-no/photo.jpg",
            "userId": "106137682665301037063"
          }
        }
      },
      "cell_type": "code",
      "source": [
        "dataset_size = X_train.shape[0]\n",
        "\n",
        "idx = random.randint(0, dataset_size)\n",
        "\n",
        "sample_img = X_train[idx]\n",
        "sample_label= np.argmax(y_train[idx])\n",
        "\n",
        "print(u\"Resmin Cinsi : %s\" % TYPE_MAP[sample_label]) # Rasgele çektiğimiz resmin ne olduğu ile birlikte aşağıda göstertiyoruz. Daha eğitim yapmadık.Sadece dataya bakiyoruz.\n",
        "plt.imshow(sample_img)"
      ],
      "execution_count": 8,
      "outputs": [
        {
          "output_type": "stream",
          "text": [
            "Resmin Cinsi : Kurbağa\n"
          ],
          "name": "stdout"
        },
        {
          "output_type": "execute_result",
          "data": {
            "text/plain": [
              "<matplotlib.image.AxesImage at 0x7f6ba7899ad0>"
            ]
          },
          "metadata": {
            "tags": []
          },
          "execution_count": 8
        },
        {
          "output_type": "display_data",
          "data": {
            "image/png": "[encoded data removed]",
            "text/plain": [
              "<matplotlib.figure.Figure at 0x7f6ba78b0190>"
            ]
          },
          "metadata": {
            "tags": []
          }
        }
      ]
    },
    {
      "metadata": {
        "id": "2I7ao_Dxytti",
        "colab_type": "code",
        "colab": {
          "autoexec": {
            "startup": false,
            "wait_interval": 0
          }
        }
      },
      "cell_type": "code",
      "source": [
        "input_shape = X_train.shape[1:]\n",
        "\n",
        "model = Sequential()\n",
        "\n",
        "model.add(Conv2D(32,(5,5),padding ='same',input_shape=input_shape)) # 5x5x32'lik bir Conv uyguluyoruz.\n",
        "model.add(Activation('relu')) # Activasyon fonksiyonu relu. \n",
        "\n",
        "model.add(Conv2D(32, (3, 3)))# 3x3x32'lik bir Conv yapıyoruz.\n",
        "model.add(MaxPool2D(pool_size=(2,2))) # 2x2 'lik bir  max pool yaparak veriyi daha aza indirgiyoruz.\n",
        "model.add(Activation('relu'))\n",
        "model.add(Dropout(0.25)) # Rasgele olarak verilerin bazılarını sıfıra çekiyor.\n",
        "\n",
        "model.add(Conv2D(64,(3,3),padding='same')) # 3x3x64'lük bir Conv işlemi. padding var.\n",
        "model.add(Activation('relu')) # Activatiyonu relu\n",
        "\n",
        "model.add(Conv2D(64,(3,3))) # 3x3x64'lük bir conv işlemi paddingsiz\n",
        "model.add(MaxPool2D(pool_size=(2,2)))# 2x2'lik maxpool\n",
        "model.add(Dropout(0.5)) # Dropout\n",
        "\n",
        "model.add(Flatten()) # Bu katman tek dikey bir dizi şeklini aldırıyor çikişlarımızın\n",
        "model.add(Dense(1024,activation='relu')) # Hidden Layer\n",
        "model.add(Dropout(0.25))\n",
        "\n",
        "\n",
        "model.add(Dense(NUM_CLASSES,activation='softmax'))  # Softmax ile çikişi gösteriyoruz.\n",
        "\n",
        "model.compile(loss=keras.losses.categorical_crossentropy,optimizer=keras.optimizers.Adadelta(),metrics=['accuracy']) # Optimizer ile hatayi daha aza indirgeme işlemi yapıyoruz. Adadelta kullandığımız algortima Adam vb de kullanılabilir."
      ],
      "execution_count": 0,
      "outputs": []
    },
    {
      "metadata": {
        "id": "kvazV4OQ8lyz",
        "colab_type": "text"
      },
      "cell_type": "markdown",
      "source": [
        ""
      ]
    },
    {
      "metadata": {
        "id": "9w8wNZUaw7MH",
        "colab_type": "code",
        "colab": {
          "autoexec": {
            "startup": false,
            "wait_interval": 0
          },
          "output_extras": [
            {
              "item_id": 66
            },
            {
              "item_id": 105
            },
            {
              "item_id": 140
            },
            {
              "item_id": 144
            },
            {
              "item_id": 145
            }
          ],
          "base_uri": "https://localhost:8080/",
          "height": 411
        },
        "outputId": "57079015-a191-46a4-ac2c-773a96793d30",
        "executionInfo": {
          "status": "ok",
          "timestamp": 1517872581876,
          "user_tz": -180,
          "elapsed": 117554,
          "user": {
            "displayName": "Eralp Özcan",
            "photoUrl": "//lh5.googleusercontent.com/-MCjMIIz2Q80/AAAAAAAAAAI/AAAAAAAAACQ/fYaY2ovTkhc/s50-c-k-no/photo.jpg",
            "userId": "106137682665301037063"
          }
        }
      },
      "cell_type": "code",
      "source": [
        "model.fit(X_train, y_train, batch_size=512, epochs=10,verbose=1,validation_data=(X_test, y_test),shuffle=True)  # Batch_size Her iterasyonda kaç resim göndereceğimiz.Fazla resim göndermek doğrulu arttırsada ezberide arttırıyor.İdeal 128 256 gibi. Epoch iterasyon kaç kere yapılcak bu.Validation= doğruluk teste göre oranlicak"
      ],
      "execution_count": 10,
      "outputs": [
        {
          "output_type": "stream",
          "text": [
            "Train on 50000 samples, validate on 10000 samples\n",
            "Epoch 1/10\n",
            "50000/50000 [==============================] - 14s 277us/step - loss: 2.1643 - acc: 0.2087 - val_loss: 1.8052 - val_acc: 0.3532\n",
            "Epoch 2/10\n",
            "50000/50000 [==============================] - 11s 228us/step - loss: 1.8168 - acc: 0.3589 - val_loss: 1.7215 - val_acc: 0.3939\n",
            "Epoch 3/10\n",
            "50000/50000 [==============================] - 11s 227us/step - loss: 1.5856 - acc: 0.4331 - val_loss: 1.4061 - val_acc: 0.5025\n",
            "Epoch 4/10\n",
            "14848/50000 [=======>......................] - ETA: 7s - loss: 1.4650 - acc: 0.4758"
          ],
          "name": "stdout"
        },
        {
          "output_type": "stream",
          "text": [
            "50000/50000 [==============================] - 11s 227us/step - loss: 1.4498 - acc: 0.4841 - val_loss: 1.2956 - val_acc: 0.5454\n",
            "Epoch 5/10\n",
            "50000/50000 [==============================] - 11s 227us/step - loss: 1.3495 - acc: 0.5196 - val_loss: 1.2810 - val_acc: 0.5497\n",
            "Epoch 6/10\n",
            "50000/50000 [==============================] - 11s 227us/step - loss: 1.2765 - acc: 0.5463 - val_loss: 1.2218 - val_acc: 0.5640\n",
            "Epoch 7/10\n",
            "37376/50000 [=====================>........] - ETA: 2s - loss: 1.2046 - acc: 0.5749"
          ],
          "name": "stdout"
        },
        {
          "output_type": "stream",
          "text": [
            "50000/50000 [==============================] - 11s 227us/step - loss: 1.1969 - acc: 0.5767 - val_loss: 1.0864 - val_acc: 0.6155\n",
            "Epoch 8/10\n",
            "50000/50000 [==============================] - 11s 228us/step - loss: 1.1181 - acc: 0.6054 - val_loss: 1.0759 - val_acc: 0.6232\n",
            "Epoch 9/10\n",
            "50000/50000 [==============================] - 11s 227us/step - loss: 1.0660 - acc: 0.6248 - val_loss: 0.9620 - val_acc: 0.6665\n",
            "Epoch 10/10\n",
            "40960/50000 [=======================>......] - ETA: 1s - loss: 1.0017 - acc: 0.6476"
          ],
          "name": "stdout"
        },
        {
          "output_type": "stream",
          "text": [
            "50000/50000 [==============================] - 11s 227us/step - loss: 0.9960 - acc: 0.6507 - val_loss: 1.0693 - val_acc: 0.6157\n"
          ],
          "name": "stdout"
        },
        {
          "output_type": "execute_result",
          "data": {
            "text/plain": [
              "<keras.callbacks.History at 0x7f6ba530f210>"
            ]
          },
          "metadata": {
            "tags": []
          },
          "execution_count": 10
        }
      ]
    },
    {
      "metadata": {
        "id": "LAZhfLdSwQNt",
        "colab_type": "code",
        "colab": {
          "autoexec": {
            "startup": false,
            "wait_interval": 0
          },
          "output_extras": [
            {
              "item_id": 5
            },
            {
              "item_id": 6
            }
          ],
          "base_uri": "https://localhost:8080/",
          "height": 51
        },
        "outputId": "c91bc6ba-9077-4185-d579-7046d515a303",
        "executionInfo": {
          "status": "ok",
          "timestamp": 1517872732828,
          "user_tz": -180,
          "elapsed": 2403,
          "user": {
            "displayName": "Eralp Özcan",
            "photoUrl": "//lh5.googleusercontent.com/-MCjMIIz2Q80/AAAAAAAAAAI/AAAAAAAAACQ/fYaY2ovTkhc/s50-c-k-no/photo.jpg",
            "userId": "106137682665301037063"
          }
        }
      },
      "cell_type": "code",
      "source": [
        "model.evaluate(X_test,y_test, verbose=1) # Modelin değerlendirmesini yapıyor.Valitadon???."
      ],
      "execution_count": 12,
      "outputs": [
        {
          "output_type": "stream",
          "text": [
            "10000/10000 [==============================] - 2s 175us/step\n"
          ],
          "name": "stdout"
        },
        {
          "output_type": "execute_result",
          "data": {
            "text/plain": [
              "[1.0693060401916503, 0.6157]"
            ]
          },
          "metadata": {
            "tags": []
          },
          "execution_count": 12
        }
      ]
    },
    {
      "metadata": {
        "id": "6W4IDuQwIj8P",
        "colab_type": "code",
        "colab": {
          "autoexec": {
            "startup": false,
            "wait_interval": 0
          },
          "output_extras": [
            {
              "item_id": 1
            },
            {
              "item_id": 2
            }
          ],
          "base_uri": "https://localhost:8080/",
          "height": 453
        },
        "outputId": "570d4a62-1c78-4816-8343-6aa8f710c0fb",
        "executionInfo": {
          "status": "ok",
          "timestamp": 1517872904600,
          "user_tz": -180,
          "elapsed": 1280,
          "user": {
            "displayName": "Eralp Özcan",
            "photoUrl": "//lh5.googleusercontent.com/-MCjMIIz2Q80/AAAAAAAAAAI/AAAAAAAAACQ/fYaY2ovTkhc/s50-c-k-no/photo.jpg",
            "userId": "106137682665301037063"
          }
        }
      },
      "cell_type": "code",
      "source": [
        "idx = random.randint(0, X_test.shape[0])# Rasgele resim seçiyoruz\n",
        "\n",
        "sample_img= X_test[idx]\n",
        "sample_label = np.argmax(y_test[idx])\n",
        "\n",
        "print(u\"Resmin Cinsi : %s\" % TYPE_MAP[sample_label] ) # Rasgele resimin ne olduğunu veya söylediğini gösteriyoruz\n",
        "plt.imshow(sample_img)\n",
        "\n",
        "sample_img= sample_img.reshape(1, 32, 32 ,3) # 32 32 Boyutunda olduğu için ve RGB olduğundan 3 diyoruz.\n",
        "\n",
        "for i, v in enumerate(model.predict(sample_img)[0]): # Resimin kaç ihtimalle olduğunu yazdiriyoruz.\n",
        "  print(u\"Resim %s olma ihtimali : %.2f%%\" % (TYPE_MAP[i],v *100)) # İhtimallini yansıtıyoruz i değişkeni diğer kategorilere göre de ihtimalleri göstermemize yariyor."
      ],
      "execution_count": 21,
      "outputs": [
        {
          "output_type": "stream",
          "text": [
            "Resmin Cinsi : Kuş\n",
            "Resim Uçak olma ihtimali : 0.06%\n",
            "Resim Otomobil olma ihtimali : 0.00%\n",
            "Resim Kuş olma ihtimali : 56.69%\n",
            "Resim Kedi olma ihtimali : 1.31%\n",
            "Resim Geyik olma ihtimali : 24.13%\n",
            "Resim Köpek olma ihtimali : 0.09%\n",
            "Resim Kurbağa olma ihtimali : 17.67%\n",
            "Resim At olma ihtimali : 0.03%\n",
            "Resim Gemi olma ihtimali : 0.01%\n",
            "Resim Kamyon olma ihtimali : 0.01%\n"
          ],
          "name": "stdout"
        },
        {
          "output_type": "display_data",
          "data": {
            "image/png": "[encoded data removed]",
            "text/plain": [
              "<matplotlib.figure.Figure at 0x7f6b9f929510>"
            ]
          },
          "metadata": {
            "tags": []
          }
        }
      ]
    },
    {
      "metadata": {
        "id": "th15RXxtpj4b",
        "colab_type": "code",
        "colab": {
          "autoexec": {
            "startup": false,
            "wait_interval": 0
          }
        }
      },
      "cell_type": "code",
      "source": [
        "model.save('cifar10-cnn.h5') # Eğitilmiş verileri kaydetmek için Drive'a direkt kaydediyor."
      ],
      "execution_count": 0,
      "outputs": []
    },
    {
      "metadata": {
        "id": "uNZLAHZbp8b0",
        "colab_type": "code",
        "colab": {
          "autoexec": {
            "startup": false,
            "wait_interval": 0
          }
        }
      },
      "cell_type": "code",
      "source": [
        "model.load_weights('cifar10-cnn.h5') # Eğitilmiş ağırlıkları yüklemek için."
      ],
      "execution_count": 0,
      "outputs": []
    },
    {
      "metadata": {
        "id": "RtDfn7r0rgss",
        "colab_type": "code",
        "colab": {
          "autoexec": {
            "startup": false,
            "wait_interval": 0
          },
          "output_extras": [
            {
              "item_id": 1
            }
          ],
          "base_uri": "https://localhost:8080/",
          "height": 34
        },
        "outputId": "075740a7-fcb1-4709-86ae-bae032d716e8",
        "executionInfo": {
          "status": "ok",
          "timestamp": 1517309270855,
          "user_tz": -180,
          "elapsed": 763,
          "user": {
            "displayName": "Eralp Özcan",
            "photoUrl": "//lh5.googleusercontent.com/-MCjMIIz2Q80/AAAAAAAAAAI/AAAAAAAAACQ/fYaY2ovTkhc/s50-c-k-no/photo.jpg",
            "userId": "106137682665301037063"
          }
        }
      },
      "cell_type": "code",
      "source": [
        "!ls"
      ],
      "execution_count": 1,
      "outputs": [
        {
          "output_type": "stream",
          "text": [
            "datalab\r\n"
          ],
          "name": "stdout"
        }
      ]
    },
    {
      "metadata": {
        "id": "SOa7GxNkrPeQ",
        "colab_type": "code",
        "colab": {
          "autoexec": {
            "startup": false,
            "wait_interval": 0
          },
          "output_extras": [
            {
              "item_id": 1
            }
          ],
          "base_uri": "https://localhost:8080/",
          "height": 646
        },
        "outputId": "b9c185b1-a514-4f59-8ca5-9ca4b2a61797",
        "executionInfo": {
          "status": "ok",
          "timestamp": 1517873001729,
          "user_tz": -180,
          "elapsed": 1930,
          "user": {
            "displayName": "Eralp Özcan",
            "photoUrl": "//lh5.googleusercontent.com/-MCjMIIz2Q80/AAAAAAAAAAI/AAAAAAAAACQ/fYaY2ovTkhc/s50-c-k-no/photo.jpg",
            "userId": "106137682665301037063"
          }
        }
      },
      "cell_type": "code",
      "source": [
        "model.summary() # modelimizin akış seması diyebiliriz diyagramı ve parametre sayıları."
      ],
      "execution_count": 24,
      "outputs": [
        {
          "output_type": "stream",
          "text": [
            "_________________________________________________________________\n",
            "Layer (type)                 Output Shape              Param #   \n",
            "=================================================================\n",
            "conv2d_1 (Conv2D)            (None, 32, 32, 32)        2432      \n",
            "_________________________________________________________________\n",
            "activation_1 (Activation)    (None, 32, 32, 32)        0         \n",
            "_________________________________________________________________\n",
            "conv2d_2 (Conv2D)            (None, 30, 30, 32)        9248      \n",
            "_________________________________________________________________\n",
            "max_pooling2d_1 (MaxPooling2 (None, 15, 15, 32)        0         \n",
            "_________________________________________________________________\n",
            "activation_2 (Activation)    (None, 15, 15, 32)        0         \n",
            "_________________________________________________________________\n",
            "dropout_1 (Dropout)          (None, 15, 15, 32)        0         \n",
            "_________________________________________________________________\n",
            "conv2d_3 (Conv2D)            (None, 15, 15, 64)        18496     \n",
            "_________________________________________________________________\n",
            "activation_3 (Activation)    (None, 15, 15, 64)        0         \n",
            "_________________________________________________________________\n",
            "conv2d_4 (Conv2D)            (None, 13, 13, 64)        36928     \n",
            "_________________________________________________________________\n",
            "max_pooling2d_2 (MaxPooling2 (None, 6, 6, 64)          0         \n",
            "_________________________________________________________________\n",
            "dropout_2 (Dropout)          (None, 6, 6, 64)          0         \n",
            "_________________________________________________________________\n",
            "flatten_1 (Flatten)          (None, 2304)              0         \n",
            "_________________________________________________________________\n",
            "dense_1 (Dense)              (None, 1024)              2360320   \n",
            "_________________________________________________________________\n",
            "dropout_3 (Dropout)          (None, 1024)              0         \n",
            "_________________________________________________________________\n",
            "dense_2 (Dense)              (None, 10)                10250     \n",
            "=================================================================\n",
            "Total params: 2,437,674\n",
            "Trainable params: 2,437,674\n",
            "Non-trainable params: 0\n",
            "_________________________________________________________________\n"
          ],
          "name": "stdout"
        }
      ]
    }
  ]
}
